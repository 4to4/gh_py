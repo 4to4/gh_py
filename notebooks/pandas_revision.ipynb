{
 "cells": [
  {
   "cell_type": "code",
   "execution_count": 1,
   "metadata": {},
   "outputs": [],
   "source": [
    "import numpy as np\n",
    "import pandas as pd\n",
    "\n",
    "# data frame column is series and rows are records\n",
    "\n",
    "s = pd.Series(np.arange(3), index=[\"F\", \"S\", \"T\"])"
   ]
  },
  {
   "cell_type": "code",
   "execution_count": 10,
   "metadata": {},
   "outputs": [
    {
     "data": {
      "text/plain": [
       "Index(['F', 'S', 'T'], dtype='object')"
      ]
     },
     "execution_count": 10,
     "metadata": {},
     "output_type": "execute_result"
    }
   ],
   "source": [
    "s.index"
   ]
  },
  {
   "cell_type": "code",
   "execution_count": 22,
   "metadata": {},
   "outputs": [
    {
     "data": {
      "text/html": [
       "<div>\n",
       "<style scoped>\n",
       "    .dataframe tbody tr th:only-of-type {\n",
       "        vertical-align: middle;\n",
       "    }\n",
       "\n",
       "    .dataframe tbody tr th {\n",
       "        vertical-align: top;\n",
       "    }\n",
       "\n",
       "    .dataframe thead th {\n",
       "        text-align: right;\n",
       "    }\n",
       "</style>\n",
       "<table border=\"1\" class=\"dataframe\">\n",
       "  <thead>\n",
       "    <tr style=\"text-align: right;\">\n",
       "      <th></th>\n",
       "      <th>s</th>\n",
       "      <th>t</th>\n",
       "      <th>u</th>\n",
       "    </tr>\n",
       "  </thead>\n",
       "  <tbody>\n",
       "    <tr>\n",
       "      <th>1</th>\n",
       "      <td>0.335183</td>\n",
       "      <td>0.380179</td>\n",
       "      <td>0.913781</td>\n",
       "    </tr>\n",
       "    <tr>\n",
       "      <th>2</th>\n",
       "      <td>0.720105</td>\n",
       "      <td>0.003471</td>\n",
       "      <td>0.988127</td>\n",
       "    </tr>\n",
       "    <tr>\n",
       "      <th>3</th>\n",
       "      <td>0.906935</td>\n",
       "      <td>0.050170</td>\n",
       "      <td>0.409624</td>\n",
       "    </tr>\n",
       "  </tbody>\n",
       "</table>\n",
       "</div>"
      ],
      "text/plain": [
       "          s         t         u\n",
       "1  0.335183  0.380179  0.913781\n",
       "2  0.720105  0.003471  0.988127\n",
       "3  0.906935  0.050170  0.409624"
      ]
     },
     "execution_count": 22,
     "metadata": {},
     "output_type": "execute_result"
    }
   ],
   "source": [
    "a2 = np.random.rand(3,3)\n",
    "df = pd.DataFrame(a2, index=list(\"123\"), columns=list(\"stu\"))\n",
    "df"
   ]
  },
  {
   "cell_type": "code",
   "execution_count": 23,
   "metadata": {},
   "outputs": [
    {
     "name": "stdout",
     "output_type": "stream",
     "text": [
      "1    0.335183\n",
      "2    0.720105\n",
      "3    0.906935\n",
      "Name: s, dtype: float64\n"
     ]
    }
   ],
   "source": [
    "print(df['s'])\n"
   ]
  },
  {
   "cell_type": "code",
   "execution_count": 90,
   "metadata": {},
   "outputs": [
    {
     "data": {
      "text/html": [
       "<div>\n",
       "<style scoped>\n",
       "    .dataframe tbody tr th:only-of-type {\n",
       "        vertical-align: middle;\n",
       "    }\n",
       "\n",
       "    .dataframe tbody tr th {\n",
       "        vertical-align: top;\n",
       "    }\n",
       "\n",
       "    .dataframe thead th {\n",
       "        text-align: right;\n",
       "    }\n",
       "</style>\n",
       "<table border=\"1\" class=\"dataframe\">\n",
       "  <thead>\n",
       "    <tr style=\"text-align: right;\">\n",
       "      <th></th>\n",
       "      <th>Coffee</th>\n",
       "      <th>Price</th>\n",
       "    </tr>\n",
       "  </thead>\n",
       "  <tbody>\n",
       "    <tr>\n",
       "      <th>0</th>\n",
       "      <td>Expresso</td>\n",
       "      <td>$5</td>\n",
       "    </tr>\n",
       "    <tr>\n",
       "      <th>1</th>\n",
       "      <td>Coffee</td>\n",
       "      <td>$5</td>\n",
       "    </tr>\n",
       "  </tbody>\n",
       "</table>\n",
       "</div>"
      ],
      "text/plain": [
       "     Coffee Price\n",
       "0  Expresso    $5\n",
       "1    Coffee    $5"
      ]
     },
     "execution_count": 90,
     "metadata": {},
     "output_type": "execute_result"
    }
   ],
   "source": [
    "##pandas with csv #### read_csv function\n",
    "\n",
    "import os\n",
    "import pandas as pd\n",
    "import numpy as np\n",
    "\n",
    "file_data = pd.read_csv(r'D:\\dev\\large_dataset\\artwork_data.csv')\n",
    "\n",
    "# pandas will automatically assign an ID, if you want to change that then specicy the column you want to be the id e.g.\n",
    "file_data = pd.read_csv(r'D:\\dev\\large_dataset\\artwork_data.csv', index_col='id')\n",
    "\n",
    "# to read only top few rows()\n",
    "file_data = pd.read_csv(r'D:\\dev\\large_dataset\\artwork_data.csv', index_col='id', nrows=2)\n",
    "\n",
    "# to specify which columns should be loaded and used use usecols=['id', 'artist']\n",
    "col_list_raw = 'id,accession_number,artist,artistRole,artistId,title,dateText,medium,creditLine,year,acquisitionYear,dimensions,width,height,depth,units,inscription,thumbnailCopyright,thumbnailUrl,url'\n",
    "file_data = pd.read_csv(\n",
    "    r'D:\\dev\\large_dataset\\artwork_data.csv',\n",
    "    index_col='id',\n",
    "    usecols=col_list_raw.split(',')\n",
    "    )\n",
    "file_data\n",
    "\n",
    "# to use the data frame in the future and keep it on the side for now to native python format called pickle\n",
    "df.to_pickle(os.path.join('.', 'df.pickle'))\n",
    "df\n"
   ]
  },
  {
   "cell_type": "code",
   "execution_count": 110,
   "metadata": {},
   "outputs": [
    {
     "name": "stdout",
     "output_type": "stream",
     "text": [
      "    integer            datetime  category\n",
      "0         5 2015-01-01 00:00:00         0\n",
      "1         5 2015-01-01 00:00:01         0\n",
      "2         9 2015-01-01 00:00:02         0\n",
      "3         6 2015-01-01 00:00:03         0\n",
      "4         6 2015-01-01 00:00:04         0\n",
      "..      ...                 ...       ...\n",
      "95        9 2015-01-01 00:01:35         0\n",
      "96        8 2015-01-01 00:01:36         0\n",
      "97        6 2015-01-01 00:01:37         0\n",
      "98        8 2015-01-01 00:01:38         0\n",
      "99        1 2015-01-01 00:01:39         0\n",
      "\n",
      "[100 rows x 3 columns]\n"
     ]
    }
   ],
   "source": [
    "## loading json file with pandas ###\n",
    "import json\n",
    "import os\n",
    "import pandas\n",
    "\n",
    "\n",
    "with open(r\"D:\\dev\\large_dataset\\simple_json.json\") as f:\n",
    "    df = pd.read_json(f,orient='columns')\n",
    "    print(df)\n",
    "#     df = pd.DataFrame(json.load(f))\n",
    "#     print(df)\n",
    "    \n",
    "    "
   ]
  },
  {
   "cell_type": "code",
   "execution_count": 125,
   "metadata": {},
   "outputs": [
    {
     "name": "stdout",
     "output_type": "stream",
     "text": [
      "    integer            datetime  category\n",
      "0         5 2015-01-01 00:00:00         0\n",
      "1         5 2015-01-01 00:00:01         0\n",
      "2         9 2015-01-01 00:00:02         0\n",
      "3         6 2015-01-01 00:00:03         0\n",
      "4         6 2015-01-01 00:00:04         0\n",
      "..      ...                 ...       ...\n",
      "95        9 2015-01-01 00:01:35         0\n",
      "96        8 2015-01-01 00:01:36         0\n",
      "97        6 2015-01-01 00:01:37         0\n",
      "98        8 2015-01-01 00:01:38         0\n",
      "99        1 2015-01-01 00:01:39         0\n",
      "\n",
      "[100 rows x 3 columns]\n"
     ]
    }
   ],
   "source": [
    "# Create URL to JSON file (alternatively this can be a filepath)\n",
    "url = 'https://raw.githubusercontent.com/chrisalbon/simulated_datasets/master/data.json'\n",
    "\n",
    "# Load the first sheet of the JSON file into a data frame\n",
    "df = pd.read_json(url, orient='columns')\n",
    "\n",
    "# View the first ten rows\n",
    "df.head(10)\n",
    "print(df)\n",
    "    \n",
    "    "
   ]
  },
  {
   "cell_type": "code",
   "execution_count": 132,
   "metadata": {},
   "outputs": [
    {
     "ename": "ModuleNotFoundError",
     "evalue": "No module named 'pandas.json_normalize'",
     "output_type": "error",
     "traceback": [
      "\u001b[1;31m---------------------------------------------------------------------------\u001b[0m",
      "\u001b[1;31mModuleNotFoundError\u001b[0m                       Traceback (most recent call last)",
      "\u001b[1;32m<ipython-input-132-661dbbd64677>\u001b[0m in \u001b[0;36m<module>\u001b[1;34m\u001b[0m\n\u001b[0;32m      1\u001b[0m \u001b[1;32mimport\u001b[0m \u001b[0mjson\u001b[0m\u001b[1;33m\u001b[0m\u001b[1;33m\u001b[0m\u001b[0m\n\u001b[0;32m      2\u001b[0m \u001b[1;32mimport\u001b[0m \u001b[0mpandas\u001b[0m \u001b[1;32mas\u001b[0m \u001b[0mpd\u001b[0m\u001b[1;33m\u001b[0m\u001b[1;33m\u001b[0m\u001b[0m\n\u001b[1;32m----> 3\u001b[1;33m \u001b[1;32mimport\u001b[0m \u001b[0mpandas\u001b[0m\u001b[1;33m.\u001b[0m\u001b[0mjson_normalize\u001b[0m\u001b[1;33m\u001b[0m\u001b[1;33m\u001b[0m\u001b[0m\n\u001b[0m\u001b[0;32m      4\u001b[0m \u001b[1;33m\u001b[0m\u001b[0m\n\u001b[0;32m      5\u001b[0m \u001b[0murl\u001b[0m\u001b[1;33m=\u001b[0m\u001b[1;34m'https://github.com/a9k00r/python-test/blob/master/raw_nyc_phil.json'\u001b[0m\u001b[1;33m\u001b[0m\u001b[1;33m\u001b[0m\u001b[0m\n",
      "\u001b[1;31mModuleNotFoundError\u001b[0m: No module named 'pandas.json_normalize'"
     ]
    }
   ],
   "source": [
    "import json\n",
    "import pandas as pd\n",
    "import pandas.json_normalize\n",
    "\n",
    "url='https://github.com/a9k00r/python-test/blob/master/raw_nyc_phil.json'\n",
    "df = pd.read_json(url, orient='columns')"
   ]
  },
  {
   "cell_type": "code",
   "execution_count": null,
   "metadata": {},
   "outputs": [],
   "source": []
  }
 ],
 "metadata": {
  "kernelspec": {
   "display_name": "Python 3",
   "language": "python",
   "name": "python3"
  },
  "language_info": {
   "codemirror_mode": {
    "name": "ipython",
    "version": 3
   },
   "file_extension": ".py",
   "mimetype": "text/x-python",
   "name": "python",
   "nbconvert_exporter": "python",
   "pygments_lexer": "ipython3",
   "version": "3.7.4"
  }
 },
 "nbformat": 4,
 "nbformat_minor": 4
}
