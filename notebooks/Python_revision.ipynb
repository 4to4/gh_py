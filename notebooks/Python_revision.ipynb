{
 "cells": [
  {
   "cell_type": "code",
   "execution_count": 47,
   "metadata": {},
   "outputs": [
    {
     "name": "stdout",
     "output_type": "stream",
     "text": [
      "True\n"
     ]
    }
   ],
   "source": [
    "# raw string is true\n",
    "if (\"abc\"):\n",
    "    print(True)"
   ]
  },
  {
   "cell_type": "code",
   "execution_count": 60,
   "metadata": {},
   "outputs": [
    {
     "name": "stdout",
     "output_type": "stream",
     "text": [
      "<class 'tuple'> <class 'list'> <class 'set'> <class 'dict'>\n",
      "a a {'a', 3, 1} 2\n"
     ]
    }
   ],
   "source": [
    "# support for names parameter as function arguments, also accounts for default arguments\n",
    "# tuples are const arrays, list are arrays, dictionary = hash, sets - arrays with unique list members\n",
    "\n",
    "# tuples\n",
    "t = (\"a\", 2,3,33)\n",
    "\n",
    "#list\n",
    "l = [\"a\", 2, 3]\n",
    "\n",
    "#set\n",
    "s = { 'a', 1, 3}\n",
    "\n",
    "#dict\n",
    "d = {'a': 1, 'b': 2, 1:2}\n",
    "\n",
    "print(\n",
    "    type(t),\n",
    "    type(l),\n",
    "    type(s),\n",
    "    type(d),\n",
    "    )\n",
    "\n",
    "print(\n",
    "    t[0],\n",
    "    l[0],\n",
    "    s,\n",
    "    d['b']\n",
    "    )\n",
    "\n",
    "#deleting a dictionary -> del dict"
   ]
  },
  {
   "cell_type": "code",
   "execution_count": 61,
   "metadata": {},
   "outputs": [
    {
     "name": "stdout",
     "output_type": "stream",
     "text": [
      "{1: 'v', 2: 'a', 3: 'l', 4: 'u', 5: 'e', 6: 's'}\n"
     ]
    }
   ],
   "source": [
    "print(dict(\n",
    "    enumerate(\n",
    "        list(\n",
    "            \"values\"\n",
    "            )\n",
    "        , start=1)\n",
    "    ))"
   ]
  },
  {
   "cell_type": "code",
   "execution_count": 70,
   "metadata": {},
   "outputs": [
    {
     "name": "stdout",
     "output_type": "stream",
     "text": [
      "{2, 3, 4}\n",
      "{1, 2, 3, 4, 5, 7}\n",
      "{1, 5}\n",
      "False\n",
      "{1, 5, 7}\n",
      "None\n"
     ]
    }
   ],
   "source": [
    "# set operations:\n",
    "\n",
    "# union, difference, intersection, subset, difference, difference_update, \n",
    "\n",
    "s1 = set([1,2,3,4,5])\n",
    "s2 = set([2,3,4,7,4])\n",
    "\n",
    "print(s1.intersection(s2))\n",
    "print(s1.union(s2))\n",
    "print(s1.difference(s2))\n",
    "print(s1.issubset(s2))\n",
    "print(s1.symmetric_difference(s2))\n",
    "print(s1.difference_update(s2))"
   ]
  },
  {
   "cell_type": "code",
   "execution_count": 89,
   "metadata": {},
   "outputs": [
    {
     "name": "stdout",
     "output_type": "stream",
     "text": [
      "None\n",
      "['Z', 'Z', 'Z', 'Y', 'A']\n"
     ]
    }
   ],
   "source": [
    "# sorted is local, sort is in place\n",
    "d = list(\"ZZAYZ\")\n",
    "print(d.sort(reverse=True))\n",
    "print(d)\n",
    "\n"
   ]
  },
  {
   "cell_type": "code",
   "execution_count": 90,
   "metadata": {},
   "outputs": [
    {
     "name": "stdout",
     "output_type": "stream",
     "text": [
      "1\n",
      "2\n"
     ]
    }
   ],
   "source": [
    "### generator\n",
    "def gen123():\n",
    "    yield 1\n",
    "    yield 2\n",
    "    return\n",
    "\n",
    "g = gen123()\n",
    "print(next(g))\n",
    "print(next(g))\n"
   ]
  },
  {
   "cell_type": "code",
   "execution_count": 113,
   "metadata": {},
   "outputs": [
    {
     "name": "stdout",
     "output_type": "stream",
     "text": [
      "['i']\n"
     ]
    }
   ],
   "source": [
    "# list comprehension\n",
    "\n",
    "lst = list(\"ritesh\")\n",
    "\n",
    "f = [x for x in lst if x == 'i']\n",
    "print(f)"
   ]
  },
  {
   "cell_type": "code",
   "execution_count": 117,
   "metadata": {},
   "outputs": [
    {
     "name": "stdout",
     "output_type": "stream",
     "text": [
      "{3: 'R', 4: 'T', 5: 'Y'}\n"
     ]
    }
   ],
   "source": [
    "nd = dict(\n",
    "    enumerate(\n",
    "    list(\"QWERTY\")\n",
    "    )\n",
    ")\n",
    "\n",
    "# dictonary comprehension\n",
    "al = { x:y for x,y in nd.items() if x > 2 }\n",
    "print(al)"
   ]
  },
  {
   "cell_type": "code",
   "execution_count": 123,
   "metadata": {
    "collapsed": true,
    "jupyter": {
     "outputs_hidden": true
    }
   },
   "outputs": [
    {
     "name": "stdout",
     "output_type": "stream",
     "text": [
      "{0: 'Q', 1: 'W', 2: 'E', 3: 'R', 4: 'T', 5: 'Y'}\n",
      "W\n",
      "XXX\n"
     ]
    }
   ],
   "source": [
    "# handling missing values in a dictionary\n",
    "\n",
    "print(nd)\n",
    "\n",
    "print(nd.get(1, \"XXX\"))\n",
    "print(nd.get(9, \"XXX\"))\n"
   ]
  },
  {
   "cell_type": "code",
   "execution_count": 134,
   "metadata": {
    "collapsed": true,
    "jupyter": {
     "outputs_hidden": true
    }
   },
   "outputs": [
    {
     "name": "stdout",
     "output_type": "stream",
     "text": [
      "a\n",
      "b\n",
      "from inside ['a', 'b']\n"
     ]
    }
   ],
   "source": [
    "# nested functions\n",
    "\n",
    "def ofunc():\n",
    "    student = [\"a\", \"b\"]\n",
    "    for i in student:\n",
    "        print(i)\n",
    "    def ifunc():\n",
    "        print(\"from inside\", student)\n",
    "    ifunc() # do not miss this line\n",
    "\n",
    "ofunc()"
   ]
  },
  {
   "cell_type": "code",
   "execution_count": 147,
   "metadata": {},
   "outputs": [
    {
     "name": "stdout",
     "output_type": "stream",
     "text": [
      "0\n",
      "2\n",
      "4\n",
      "[2, 4, 2, 4, 2, 4]\n",
      "[2, 4, 6, 8, 10]\n"
     ]
    }
   ],
   "source": [
    "#lambda functions\n",
    "\n",
    "ll = [1,2]\n",
    "ll = ll * 3\n",
    "\n",
    "a = lambda x: x * 2\n",
    "\n",
    "for i in range(3):\n",
    "    print(a(i))\n",
    "    \n",
    "nl = map(lambda x: x * 2, ll)\n",
    "print(list(nl))\n",
    "\n",
    "\n",
    "\n",
    "a_list = [1,2,3,4,5,]\n",
    "m_list = map( lambda x: x*2, a_list)\n",
    "# map object to list conversion - must be done\n",
    "print(list(m_list))"
   ]
  }
 ],
 "metadata": {
  "kernelspec": {
   "display_name": "Python 3",
   "language": "python",
   "name": "python3"
  },
  "language_info": {
   "codemirror_mode": {
    "name": "ipython",
    "version": 3
   },
   "file_extension": ".py",
   "mimetype": "text/x-python",
   "name": "python",
   "nbconvert_exporter": "python",
   "pygments_lexer": "ipython3",
   "version": "3.7.4"
  }
 },
 "nbformat": 4,
 "nbformat_minor": 4
}
