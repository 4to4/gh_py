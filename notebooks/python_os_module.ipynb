{
 "cells": [
  {
   "cell_type": "code",
   "execution_count": 9,
   "metadata": {},
   "outputs": [
    {
     "name": "stdout",
     "output_type": "stream",
     "text": [
      "All the functions associated with os DirEntry\n",
      "F_OK\n",
      "MutableMapping\n",
      "O_APPEND\n",
      "O_BINARY\n",
      "O_CREAT\n",
      "O_EXCL\n",
      "O_NOINHERIT\n",
      "O_RANDOM\n",
      "O_RDONLY\n",
      "O_RDWR\n",
      "O_SEQUENTIAL\n",
      "O_SHORT_LIVED\n",
      "O_TEMPORARY\n",
      "O_TEXT\n",
      "O_TRUNC\n",
      "O_WRONLY\n",
      "P_DETACH\n",
      "P_NOWAIT\n",
      "P_NOWAITO\n",
      "P_OVERLAY\n",
      "P_WAIT\n",
      "PathLike\n",
      "R_OK\n",
      "SEEK_CUR\n",
      "SEEK_END\n",
      "SEEK_SET\n",
      "TMP_MAX\n",
      "W_OK\n",
      "X_OK\n",
      "_Environ\n",
      "__all__\n",
      "__builtins__\n",
      "__cached__\n",
      "__doc__\n",
      "__file__\n",
      "__loader__\n",
      "__name__\n",
      "__package__\n",
      "__spec__\n",
      "_execvpe\n",
      "_exists\n",
      "_exit\n",
      "_fspath\n",
      "_get_exports_list\n",
      "_putenv\n",
      "_unsetenv\n",
      "_wrap_close\n",
      "abc\n",
      "abort\n",
      "access\n",
      "altsep\n",
      "chdir\n",
      "chmod\n",
      "close\n",
      "closerange\n",
      "cpu_count\n",
      "curdir\n",
      "defpath\n",
      "device_encoding\n",
      "devnull\n",
      "dup\n",
      "dup2\n",
      "environ\n",
      "error\n",
      "execl\n",
      "execle\n",
      "execlp\n",
      "execlpe\n",
      "execv\n",
      "execve\n",
      "execvp\n",
      "execvpe\n",
      "extsep\n",
      "fdopen\n",
      "fsdecode\n",
      "fsencode\n",
      "fspath\n",
      "fstat\n",
      "fsync\n",
      "ftruncate\n",
      "get_exec_path\n",
      "get_handle_inheritable\n",
      "get_inheritable\n",
      "get_terminal_size\n",
      "getcwd\n",
      "getcwdb\n",
      "getenv\n",
      "getlogin\n",
      "getpid\n",
      "getppid\n",
      "isatty\n",
      "kill\n",
      "linesep\n",
      "link\n",
      "listdir\n",
      "lseek\n",
      "lstat\n",
      "makedirs\n",
      "mkdir\n",
      "name\n",
      "open\n",
      "pardir\n",
      "path\n",
      "pathsep\n",
      "pipe\n",
      "popen\n",
      "putenv\n",
      "read\n",
      "readlink\n",
      "remove\n",
      "removedirs\n",
      "rename\n",
      "renames\n",
      "replace\n",
      "rmdir\n",
      "scandir\n",
      "sep\n",
      "set_handle_inheritable\n",
      "set_inheritable\n",
      "spawnl\n",
      "spawnle\n",
      "spawnv\n",
      "spawnve\n",
      "st\n",
      "startfile\n",
      "stat\n",
      "stat_result\n",
      "statvfs_result\n",
      "strerror\n",
      "supports_bytes_environ\n",
      "supports_dir_fd\n",
      "supports_effective_ids\n",
      "supports_fd\n",
      "supports_follow_symlinks\n",
      "symlink\n",
      "sys\n",
      "system\n",
      "terminal_size\n",
      "times\n",
      "times_result\n",
      "truncate\n",
      "umask\n",
      "uname_result\n",
      "unlink\n",
      "urandom\n",
      "utime\n",
      "waitpid\n",
      "walk\n",
      "write\n"
     ]
    }
   ],
   "source": [
    "# python standard library - os module\n",
    "\n",
    "import os\n",
    "\n",
    "# ! - dir is general function which shows all the available directory listing avilable for the given module.\n",
    "\n",
    "\n",
    "# 1. Get dir() - list of all the supported strings / functions associated with a module\n",
    "print(\"All the functions associated with os\", \"\\n\".join(dir(os)))"
   ]
  },
  {
   "cell_type": "code",
   "execution_count": 85,
   "metadata": {},
   "outputs": [
    {
     "data": {
      "text/plain": [
       "True"
      ]
     },
     "execution_count": 85,
     "metadata": {},
     "output_type": "execute_result"
    }
   ],
   "source": [
    "#2 access(path, mode)\n",
    "os.access(r'c:\\Users\\root\\desktop', os.R_OK)\n",
    "\n",
    "# other supported modes are W_OK - Write ok, F_OK - found, X_OK - executable"
   ]
  },
  {
   "cell_type": "code",
   "execution_count": 22,
   "metadata": {},
   "outputs": [
    {
     "name": "stdout",
     "output_type": "stream",
     "text": [
      "None\n"
     ]
    }
   ],
   "source": [
    "#3 chdir - returns none\n",
    "print(os.chdir(r'd:/'))"
   ]
  },
  {
   "cell_type": "code",
   "execution_count": 23,
   "metadata": {},
   "outputs": [
    {
     "ename": "AttributeError",
     "evalue": "module 'os' has no attribute 'chflags'",
     "output_type": "error",
     "traceback": [
      "\u001b[1;31m---------------------------------------------------------------------------\u001b[0m",
      "\u001b[1;31mAttributeError\u001b[0m                            Traceback (most recent call last)",
      "\u001b[1;32m<ipython-input-23-5ca2a574071c>\u001b[0m in \u001b[0;36m<module>\u001b[1;34m\u001b[0m\n\u001b[0;32m      1\u001b[0m \u001b[1;31m#chflags - chagne flags\u001b[0m\u001b[1;33m\u001b[0m\u001b[1;33m\u001b[0m\u001b[1;33m\u001b[0m\u001b[0m\n\u001b[1;32m----> 2\u001b[1;33m \u001b[0mos\u001b[0m\u001b[1;33m.\u001b[0m\u001b[0mchflags\u001b[0m\u001b[1;33m(\u001b[0m\u001b[1;34m'a.txt'\u001b[0m\u001b[1;33m,\u001b[0m \u001b[0mos\u001b[0m\u001b[1;33m.\u001b[0m\u001b[0mSF_NOUNLINK\u001b[0m\u001b[1;33m)\u001b[0m\u001b[1;33m\u001b[0m\u001b[1;33m\u001b[0m\u001b[0m\n\u001b[0m",
      "\u001b[1;31mAttributeError\u001b[0m: module 'os' has no attribute 'chflags'"
     ]
    }
   ],
   "source": [
    "#chflags - chagne flags\n",
    "# os.chflags('a.txt', os.SF_NOUNLINK) - Many flags are not preset on all the OSs and mostly used by root user."
   ]
  },
  {
   "cell_type": "code",
   "execution_count": 26,
   "metadata": {},
   "outputs": [],
   "source": [
    "#chmod - returns none\n",
    "import stat\n",
    "os.chmod(os.curdir,stat.S_IREAD)"
   ]
  },
  {
   "cell_type": "code",
   "execution_count": null,
   "metadata": {},
   "outputs": [],
   "source": [
    "#### other command functions #####\n",
    "# chroot for chroot\n",
    "# os.close to close the file handle\n",
    "# os.closerange(fd1, fd2)\n",
    "# closes all the descriptors in from low range (fd1) to high range (fd2) - fds are just examples\n",
    "# dup2 - duplicates the file descriptor\n",
    "# fchdir - alter the working directory to the working directory of the file descriptor\n",
    "# fchmod - alters the mode of give file descriptor to that of open file descriptor\n",
    "# fchown - same\n",
    "# fdopen - copies the open file object \n",
    "# fpathconf - opens the system config file relevant to the open file\n",
    "# fstart() - returns information about the file being pointed by file descriptor\n",
    "# fsync - anythig that is in the buffer will be flushed and written to the file\n",
    "# ftruncate - truncates the file associated with the file descriptor\n",
    "# \n",
    "\n"
   ]
  },
  {
   "cell_type": "code",
   "execution_count": 29,
   "metadata": {},
   "outputs": [
    {
     "data": {
      "text/plain": [
       "'d:\\\\'"
      ]
     },
     "execution_count": 29,
     "metadata": {},
     "output_type": "execute_result"
    }
   ],
   "source": [
    "# get $PWD\n",
    "os.getcwd()"
   ]
  },
  {
   "cell_type": "code",
   "execution_count": 39,
   "metadata": {},
   "outputs": [
    {
     "ename": "TypeError",
     "evalue": "isatty() takes exactly one argument (0 given)",
     "output_type": "error",
     "traceback": [
      "\u001b[1;31m---------------------------------------------------------------------------\u001b[0m",
      "\u001b[1;31mTypeError\u001b[0m                                 Traceback (most recent call last)",
      "\u001b[1;32m<ipython-input-39-b3a5d1e8e15d>\u001b[0m in \u001b[0;36m<module>\u001b[1;34m\u001b[0m\n\u001b[0;32m      1\u001b[0m \u001b[1;31m# os.getcwdu() - $PWD in working directory\u001b[0m\u001b[1;33m\u001b[0m\u001b[1;33m\u001b[0m\u001b[1;33m\u001b[0m\u001b[0m\n\u001b[1;32m----> 2\u001b[1;33m \u001b[0mos\u001b[0m\u001b[1;33m.\u001b[0m\u001b[0misatty\u001b[0m\u001b[1;33m(\u001b[0m\u001b[1;33m)\u001b[0m\u001b[1;33m\u001b[0m\u001b[1;33m\u001b[0m\u001b[0m\n\u001b[0m",
      "\u001b[1;31mTypeError\u001b[0m: isatty() takes exactly one argument (0 given)"
     ]
    }
   ],
   "source": [
    "# os.getcwdu() - $PWD in working directory\n",
    "# os.isatty()\n",
    "# lchflags()\n",
    "# lchmod(path,mode) - changes mode of the symlink\n",
    "# link() creates hard link\n",
    "# lseek()\n",
    "# lstat() - stats of the sym link\n",
    "# major - gets raw device number\n",
    "# makedev() - creates raw device\n",
    "# makedirs() - creates recursive directories\n",
    "# mkdir()\n",
    "# mkfifo() - creates fifo named path\n",
    "# mknod - creates file nodes\n",
    "# pipe()\n",
    "# popen()\n",
    "# read(read_bytes_from_file_descriptor)\n",
    "# readlink() - \n",
    "# remove - specific directory\n",
    "# removesdirs()\n",
    "# renames - renames directory\n",
    "# rmdir()\n",
    "# stat() - stat syscall\n",
    "# stat_float_times()\n",
    "# statvfs()\n",
    "# symlink() - create a symlink\n",
    "\n"
   ]
  },
  {
   "cell_type": "code",
   "execution_count": 42,
   "metadata": {
    "scrolled": true
   },
   "outputs": [
    {
     "ename": "AttributeError",
     "evalue": "module 'os' has no attribute 'tmpfile'",
     "output_type": "error",
     "traceback": [
      "\u001b[1;31m---------------------------------------------------------------------------\u001b[0m",
      "\u001b[1;31mAttributeError\u001b[0m                            Traceback (most recent call last)",
      "\u001b[1;32m<ipython-input-42-05629a29ee54>\u001b[0m in \u001b[0;36m<module>\u001b[1;34m\u001b[0m\n\u001b[1;32m----> 1\u001b[1;33m \u001b[0mos\u001b[0m\u001b[1;33m.\u001b[0m\u001b[0mtmpfile\u001b[0m\u001b[1;33m(\u001b[0m\u001b[1;33m)\u001b[0m\u001b[1;33m\u001b[0m\u001b[1;33m\u001b[0m\u001b[0m\n\u001b[0m",
      "\u001b[1;31mAttributeError\u001b[0m: module 'os' has no attribute 'tmpfile'"
     ]
    }
   ],
   "source": [
    "# os.tmpfile() - returns tmp file name\n",
    "# utime(path, times)\n",
    "# open, write, read"
   ]
  },
  {
   "cell_type": "code",
   "execution_count": 89,
   "metadata": {},
   "outputs": [
    {
     "name": "stdout",
     "output_type": "stream",
     "text": [
      "Directories found Logs\n",
      "Directories found Logs\n",
      "Directories found Logs\n",
      "Directories found \n",
      "Directories found \n",
      "Directories found Logs\n",
      "Directories found Logs\n",
      "Directories found Logs\n",
      "Directories found \n",
      "Directories found \n",
      "Directories found \n",
      "Directories found \n",
      "Directories found \n",
      "Directories found Logs\n",
      "Directories found Logs\n",
      "Directories found Logs\n",
      "Directories found \n",
      "Directories found \n",
      "Directories found \n",
      "Directories found \n",
      "Directories found \n",
      "Directories found Logs\n",
      "Directories found Logs\n",
      "Directories found Logs\n",
      "Directories found \n",
      "Directories found \n",
      "Directories found \n",
      "Directories found \n",
      "Directories found \n",
      "Directories found Logs\n",
      "Directories found Logs\n",
      "Directories found Logs\n",
      "Directories found \n",
      "Directories found \n",
      "Directories found \n",
      "Directories found \n",
      "Directories found \n",
      "Directories found Logs\n",
      "Directories found Logs\n",
      "Directories found Logs\n",
      "Directories found \n",
      "Directories found \n",
      "Directories found \n",
      "Directories found \n",
      "Directories found Windows 10 Pro v1903 x64 en-US Activated-KBO\n",
      "Directories found Windows 10 Pro v1903 x64 en-US Activated-KBO\n",
      "Directories found Windows 10 Pro v1903 x64 en-US Activated-KBO\n",
      "Directories found Windows 10 Pro v1903 x64 en-US Activated-KBO\n",
      "Directories found Windows 10 Pro v1903 x64 en-US Activated-KBO\n",
      "Directories found Windows 10 Pro v1903 x64 en-US Activated-KBO\n",
      "Directories found Windows 10 Pro v1903 x64 en-US Activated-KBO\n",
      "Directories found \n",
      "Directories found \n",
      "Directories found MapR-Sandbox-For-Hadoop-6.1.0\n",
      "Directories found Logs\n",
      "Directories found Logs\n",
      "Directories found Logs\n",
      "Directories found Logs\n",
      "Directories found \n",
      "Directories found \n",
      "Directories found Logs\n",
      "Directories found Logs\n",
      "Directories found Logs\n",
      "Directories found \n",
      "Directories found \n",
      "Directories found \n",
      "Directories found Logs\n",
      "Directories found Logs\n",
      "Directories found Logs\n",
      "Directories found \n",
      "Directories found \n",
      "Directories found \n",
      "Directories found \n",
      "Directories found (NOT TESTED) Activation Programs\n",
      "Windows Loader 1.9.5 (Reccomended)\n",
      "Directories found (NOT TESTED) Activation Programs\n",
      "Windows Loader 1.9.5 (Reccomended)\n",
      "Directories found (NOT TESTED) Activation Programs\n",
      "Windows Loader 1.9.5 (Reccomended)\n",
      "Directories found \n",
      "Directories found \n",
      "Directories found \n",
      "Directories found \n",
      "Directories found Information (1-2)\n",
      "Directories found Information (1-2)\n",
      "Directories found \n",
      "Directories found \n"
     ]
    }
   ],
   "source": [
    "#### exercise ####\n",
    "\n",
    "# open directory -> read file names -> print their stats\n",
    "# open file -> r, rw, unicode mode, read in binary buffer and write in binary buffer\n",
    "\n",
    "\n",
    "# read directory\n",
    "\n",
    "for dirpath, dirnames, files in os.walk(r'D:\\VMs'):\n",
    "    for file_name in files:\n",
    "        print(\"Directories found {}\".format( '\\n'.join(dirnames) ))\n",
    "#         print(\"File stat {}\".format(os.stat(file_name)))\n",
    "        if (os.access(file_name, os.R_OK)):\n",
    "            print(f\" {file_name} is readable\")\n",
    "        \n",
    "#         print(f\"DP{dirpath}, DN{dirnames}, {file_name}\")\n",
    "#         print(f\"Full path {'/'.join(list(dirpath, dirnames, file_name))}\")\n",
    "\n",
    "# print(os.walk(r'd:/'))\n",
    "# with open() as d:\n",
    "#     for i in d:\n",
    "#         print(d.name)\n",
    "\n",
    "        \n",
    "        \n",
    "\n",
    "\n"
   ]
  },
  {
   "cell_type": "code",
   "execution_count": null,
   "metadata": {},
   "outputs": [],
   "source": []
  },
  {
   "cell_type": "code",
   "execution_count": null,
   "metadata": {},
   "outputs": [],
   "source": []
  },
  {
   "cell_type": "code",
   "execution_count": null,
   "metadata": {},
   "outputs": [],
   "source": []
  },
  {
   "cell_type": "code",
   "execution_count": null,
   "metadata": {},
   "outputs": [],
   "source": []
  }
 ],
 "metadata": {
  "kernelspec": {
   "display_name": "Python 3",
   "language": "python",
   "name": "python3"
  },
  "language_info": {
   "codemirror_mode": {
    "name": "ipython",
    "version": 3
   },
   "file_extension": ".py",
   "mimetype": "text/x-python",
   "name": "python",
   "nbconvert_exporter": "python",
   "pygments_lexer": "ipython3",
   "version": "3.7.4"
  }
 },
 "nbformat": 4,
 "nbformat_minor": 4
}
