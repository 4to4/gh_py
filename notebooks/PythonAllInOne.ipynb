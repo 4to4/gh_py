{
 "cells": [
  {
   "cell_type": "code",
   "execution_count": 37,
   "metadata": {},
   "outputs": [
    {
     "name": "stdout",
     "output_type": "stream",
     "text": [
      "DDD and True\n"
     ]
    }
   ],
   "source": [
    "\"\"\"\n",
    "> Pythos is strongly but dynamically typed.\n",
    "- Variables are assigned data types based on their contents. But once assigned cannot be changed.\n",
    "\n",
    "> Functions are defined with def keyword.\n",
    "- like sub in perl\n",
    "\n",
    "> Variables types are int, float, double, boolean, String (char arrays), bytes (bytesarray) etc.\n",
    "- type hinting is allowed to get arund the dynamic typing but cannot stop the code from running if the type is incorrect\n",
    "\n",
    "> Everything is an object\n",
    "- use type() function to know the type of an object, like ref in perl\n",
    "\n",
    "> Pass by value if the variable has a value but pass by object, the variable is an object.\n",
    "- \n",
    "\n",
    "> Classes has self keyword, and class method's first argument is self always.\n",
    "\n",
    "> Has representation constructs called comprehension, which is like map and grep in perl.\n",
    "In built data structures:\n",
    "- list()   - arrays,\n",
    "- set()    - unordered arrays with unique values\n",
    "- dict()   - hashes\n",
    "- tuples() - const arrays - cannot change values\n",
    "\n",
    "> Generators - can iterate through the values one at at time\n",
    "\n",
    "> Null in other languages is None in python.\n",
    "\n",
    "> Bare string is true.\n",
    "\n",
    "> No do while loop, no ++ use += instead, no semicolon, space indendation.\n",
    "\n",
    "> Lots of __xxx__ values, called dunder. \n",
    "\n",
    "> Single line comment is with # sign and multiline with \"\\\" \".\n",
    "\n",
    "> Supports one line function pointer called, lambda => lambda x: x*2\n",
    "\n",
    "> Command line arugments are args and *kwargs\n",
    "\n",
    "> Comes with standard library like stdio.h in C.\n",
    "\n",
    "> Type casting is done with (), e.g. list() or set() etc.\n",
    "\n",
    "\"\"\"\n",
    "\n",
    "# type hinting in python\n",
    "def func1(text: str, align: bool) -> str:\n",
    "\treturn f\"{text} and {align}\"\n",
    "\n",
    "print(func1(\"DDD\", True))"
   ]
  },
  {
   "cell_type": "code",
   "execution_count": 24,
   "metadata": {},
   "outputs": [
    {
     "name": "stdout",
     "output_type": "stream",
     "text": [
      "string1string2\n",
      "this is a RAW string\n",
      "This is a unicode string\n",
      "My average of this semester was 78.23%\n",
      "Arg ARG and in decimanl is 232.32%\n",
      "Fstring string1\n",
      "1 => [string1] & 2 => [string2]\n",
      "1=>string2, 2=>string1\n",
      "My average of this semester was 78.23%\n"
     ]
    }
   ],
   "source": [
    "# printing strings\n",
    "# \"\" == '' == \"\"\" \"\"\" == ''' '''\n",
    "st1 = \"string1\"\n",
    "st2 = \"string2\"\n",
    "\n",
    "print(st1 + st2) # => I am stringand another string\n",
    "print(r'this is a RAW string') # like pre in html\n",
    "# will print this in a different order\n",
    "print(u'This is a unicode string') # unicode string\n",
    "\n",
    "\n",
    "# To limit the precision \n",
    "print (\"My average of this {0} was {1:.2f}%\" .format(\"semester\", 78.234876)) \n",
    "print(\"Arg {0} and in decimanl is {1:.2f}%\".format(\"ARG\", 232.323))\n",
    "\n",
    "print(f\"Fstring {st1}\") # lets you embed variables in it\n",
    "\n",
    "\n",
    "print(\"1 => [{}] & 2 => [{}]\".format(st1, st2)) # formatted string, index starts with 0 and goes till n\n",
    "# you can change the index to change the position of the argument. e.g.\n",
    "print(\"1=>{1}, 2=>{0}\".format(st1,st2))\n",
    "# To limit the precision \n",
    "print (\"My average of this {0} was {1:.2f}%\".format(\"semester\", 78.234876)) \n"
   ]
  }
 ],
 "metadata": {
  "kernelspec": {
   "display_name": "Python 3",
   "language": "python",
   "name": "python3"
  },
  "language_info": {
   "codemirror_mode": {
    "name": "ipython",
    "version": 3
   },
   "file_extension": ".py",
   "mimetype": "text/x-python",
   "name": "python",
   "nbconvert_exporter": "python",
   "pygments_lexer": "ipython3",
   "version": "3.7.4"
  }
 },
 "nbformat": 4,
 "nbformat_minor": 4
}
